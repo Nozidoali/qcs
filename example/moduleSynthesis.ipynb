{
 "cells": [
  {
   "cell_type": "code",
   "execution_count": null,
   "id": "c017e6d1",
   "metadata": {},
   "outputs": [],
   "source": [
    "import sys, pathlib\n",
    "sys.path.append(str(pathlib.Path.cwd().parent / 'src'))"
   ]
  },
  {
   "cell_type": "markdown",
   "id": "effae944",
   "metadata": {},
   "source": [
    "## Prepare the benchmarks in the data folder"
   ]
  },
  {
   "cell_type": "code",
   "execution_count": null,
   "id": "397f9f31",
   "metadata": {},
   "outputs": [
    {
     "name": "stdout",
     "output_type": "stream",
     "text": [
      "[INFO] Found 20 benchmarks in /home/hanyu/qcs/data/input/verilog\n"
     ]
    }
   ],
   "source": [
    "from pathlib import Path\n",
    "\n",
    "CURR_DIR = Path.cwd().resolve()\n",
    "INPUT_DIR = (CURR_DIR / \"..\" / \"data\" / \"input\" / \"verilog\").resolve()\n",
    "OUTPUT_DIR = (CURR_DIR / \"..\" / \"data\" / \"output\").resolve()\n",
    "RESULT_DIR = (CURR_DIR / \"..\" / \"data\" / \"result\").resolve()\n",
    "\n",
    "ALL_INPUTS = list(INPUT_DIR.glob(\"*.v\"))\n",
    "BMARKS = [(\n",
    "    f.stem,\n",
    "    f,\n",
    "    OUTPUT_DIR / f.with_suffix(\".json\").name,\n",
    "    RESULT_DIR / f.with_suffix(\".json\").name\n",
    ") for f in ALL_INPUTS]\n",
    "\n",
    "print(f\"[INFO] Found {len(BMARKS)} benchmarks in {INPUT_DIR}\")"
   ]
  },
  {
   "cell_type": "code",
   "execution_count": 3,
   "id": "e0000868",
   "metadata": {},
   "outputs": [
    {
     "name": "stdout",
     "output_type": "stream",
     "text": [
      "{'name': 'gf_mult5', 'n_ands': 25, 'n_t': 28, 'n_qubits': 12}\n",
      "{'name': 'gf_mult6', 'n_ands': 36, 'n_t': 21, 'n_qubits': 13}\n",
      "{'name': 'gf_mult2', 'n_ands': 4, 'n_t': 12, 'n_qubits': 8}\n"
     ]
    },
    {
     "ename": "IndexError",
     "evalue": "list index out of range",
     "output_type": "error",
     "traceback": [
      "\u001b[31m---------------------------------------------------------------------------\u001b[39m",
      "\u001b[31mIndexError\u001b[39m                                Traceback (most recent call last)",
      "\u001b[36mCell\u001b[39m\u001b[36m \u001b[39m\u001b[32mIn[3]\u001b[39m\u001b[32m, line 12\u001b[39m\n\u001b[32m     10\u001b[39m ntk = LogicNetwork.from_verilog(\u001b[38;5;28mopen\u001b[39m(verilog_in).read())\n\u001b[32m     11\u001b[39m circuit = xor_block_grouping(ntk)\n\u001b[32m---> \u001b[39m\u001b[32m12\u001b[39m circuit = \u001b[43mt_count_optimization\u001b[49m\u001b[43m(\u001b[49m\u001b[43mcircuit\u001b[49m\u001b[43m)\u001b[49m\n\u001b[32m     13\u001b[39m \u001b[38;5;28mopen\u001b[39m(circuit_out, \u001b[33m\"\u001b[39m\u001b[33mw\u001b[39m\u001b[33m\"\u001b[39m).write(json.dumps(circuit.to_json(), indent=\u001b[32m4\u001b[39m))\n\u001b[32m     14\u001b[39m datas = {\u001b[33m\"\u001b[39m\u001b[33mname\u001b[39m\u001b[33m\"\u001b[39m: name, \u001b[33m\"\u001b[39m\u001b[33mn_ands\u001b[39m\u001b[33m\"\u001b[39m: ntk.n_ands, \u001b[33m\"\u001b[39m\u001b[33mn_t\u001b[39m\u001b[33m\"\u001b[39m: circuit.num_t, \u001b[33m\"\u001b[39m\u001b[33mn_qubits\u001b[39m\u001b[33m\"\u001b[39m: circuit.n_qubits}\n",
      "\u001b[36mFile \u001b[39m\u001b[32m~/qcs/src/thirdOrderPolynomial.py:540\u001b[39m, in \u001b[36mt_count_optimization\u001b[39m\u001b[34m(circuit, method)\u001b[39m\n\u001b[32m    538\u001b[39m circuit = circuit.hadamard_gadgetization()\n\u001b[32m    539\u001b[39m sliced_circuit = SlicedCircuit.from_circ(circuit)\n\u001b[32m--> \u001b[39m\u001b[32m540\u001b[39m optimized_circuit = \u001b[43msliced_circuit\u001b[49m\u001b[43m.\u001b[49m\u001b[43mt_opt\u001b[49m\u001b[43m(\u001b[49m\u001b[43mmethod\u001b[49m\u001b[43m)\u001b[49m\n\u001b[32m    541\u001b[39m \u001b[38;5;28;01mreturn\u001b[39;00m optimized_circuit\n",
      "\u001b[36mFile \u001b[39m\u001b[32m~/qcs/src/thirdOrderPolynomial.py:321\u001b[39m, in \u001b[36mSlicedCircuit.t_opt\u001b[39m\u001b[34m(self, optimizer)\u001b[39m\n\u001b[32m    319\u001b[39m table = \u001b[38;5;28mself\u001b[39m.phase_polynomials[i].table[:]\n\u001b[32m    320\u001b[39m \u001b[38;5;28;01mif\u001b[39;00m optimizer == \u001b[33m\"\u001b[39m\u001b[33mFastTODD\u001b[39m\u001b[33m\"\u001b[39m:\n\u001b[32m--> \u001b[39m\u001b[32m321\u001b[39m     \u001b[38;5;28mself\u001b[39m.phase_polynomials[i].table = \u001b[43mfast_todd\u001b[49m\u001b[43m(\u001b[49m\u001b[43mtable\u001b[49m\u001b[43m[\u001b[49m\u001b[43m:\u001b[49m\u001b[43m]\u001b[49m\u001b[43m,\u001b[49m\u001b[43m \u001b[49m\u001b[38;5;28;43mself\u001b[39;49m\u001b[43m.\u001b[49m\u001b[43mnb_qubits\u001b[49m\u001b[43m)\u001b[49m\n\u001b[32m    322\u001b[39m \u001b[38;5;28;01melif\u001b[39;00m optimizer == \u001b[33m\"\u001b[39m\u001b[33mTOHPE\u001b[39m\u001b[33m\"\u001b[39m:\n\u001b[32m    323\u001b[39m     \u001b[38;5;28mself\u001b[39m.phase_polynomials[i].table = tohpe(table[:], \u001b[38;5;28mself\u001b[39m.nb_qubits)\n",
      "\u001b[36mFile \u001b[39m\u001b[32m~/qcs/src/thirdOrderPolynomial.py:18\u001b[39m, in \u001b[36mfast_todd\u001b[39m\u001b[34m(table, nb_qubits)\u001b[39m\n\u001b[32m     15\u001b[39m table = [copy.deepcopy(bv) \u001b[38;5;28;01mfor\u001b[39;00m bv \u001b[38;5;129;01min\u001b[39;00m table]\n\u001b[32m     17\u001b[39m \u001b[38;5;28;01mwhile\u001b[39;00m \u001b[38;5;28;01mTrue\u001b[39;00m:\n\u001b[32m---> \u001b[39m\u001b[32m18\u001b[39m     table = \u001b[43mtohpe\u001b[49m\u001b[43m(\u001b[49m\u001b[43mtable\u001b[49m\u001b[43m,\u001b[49m\u001b[43m \u001b[49m\u001b[43mnb_qubits\u001b[49m\u001b[43m)\u001b[49m\n\u001b[32m     20\u001b[39m     \u001b[38;5;66;03m# Build extended matrix for kernel computation\u001b[39;00m\n\u001b[32m     21\u001b[39m     matrix = [copy.deepcopy(bv) \u001b[38;5;28;01mfor\u001b[39;00m bv \u001b[38;5;129;01min\u001b[39;00m table]\n",
      "\u001b[36mFile \u001b[39m\u001b[32m~/qcs/src/thirdOrderPolynomial.py:168\u001b[39m, in \u001b[36mtohpe\u001b[39m\u001b[34m(table, nb_qubits)\u001b[39m\n\u001b[32m    165\u001b[39m     e.xor_bit(i)\n\u001b[32m    167\u001b[39m \u001b[38;5;28;01mwhile\u001b[39;00m \u001b[38;5;28;01mTrue\u001b[39;00m:\n\u001b[32m--> \u001b[39m\u001b[32m168\u001b[39m     y = \u001b[43mkernel\u001b[49m\u001b[43m(\u001b[49m\u001b[43mext_table\u001b[49m\u001b[43m,\u001b[49m\u001b[43m \u001b[49m\u001b[43maugmented\u001b[49m\u001b[43m,\u001b[49m\u001b[43m \u001b[49m\u001b[43mpivots\u001b[49m\u001b[43m)\u001b[49m\n\u001b[32m    169\u001b[39m     \u001b[38;5;28;01mif\u001b[39;00m y \u001b[38;5;129;01mis\u001b[39;00m \u001b[38;5;28;01mNone\u001b[39;00m:\n\u001b[32m    170\u001b[39m         \u001b[38;5;28;01mbreak\u001b[39;00m\n",
      "\u001b[36mFile \u001b[39m\u001b[32m~/qcs/src/cliffordAlgebra.py:415\u001b[39m, in \u001b[36mkernel\u001b[39m\u001b[34m(matrix, augmented_matrix, pivots)\u001b[39m\n\u001b[32m    413\u001b[39m \u001b[38;5;28;01mif\u001b[39;00m matrix[i].get(index):\n\u001b[32m    414\u001b[39m     \u001b[38;5;28;01mfor\u001b[39;00m j \u001b[38;5;129;01min\u001b[39;00m pivots:\n\u001b[32m--> \u001b[39m\u001b[32m415\u001b[39m         \u001b[38;5;28;01mif\u001b[39;00m \u001b[43mmatrix\u001b[49m\u001b[43m[\u001b[49m\u001b[43mj\u001b[49m\u001b[43m]\u001b[49m.get(index):\n\u001b[32m    416\u001b[39m             matrix[j].xor(matrix[i])\n\u001b[32m    417\u001b[39m             augmented_matrix[j].xor(augmented_matrix[i])\n",
      "\u001b[31mIndexError\u001b[39m: list index out of range"
     ]
    }
   ],
   "source": [
    "import json\n",
    "\n",
    "from logicNetwork import LogicNetwork\n",
    "from circuitExtract import xor_block_grouping, post_process\n",
    "from thirdOrderPolynomial import t_count_optimization\n",
    "\n",
    "for name, verilog_in, circuit_out, json_out in BMARKS:\n",
    "    if not name in [\"gf_mult4\", \"gf_mult5\", \"gf_mult6\", \"gf_mult2\", \"gf_mult3\"]:\n",
    "        continue\n",
    "    ntk = LogicNetwork.from_verilog(open(verilog_in).read())\n",
    "    circuit = xor_block_grouping(ntk)\n",
    "    circuit = t_count_optimization(circuit)\n",
    "    open(circuit_out, \"w\").write(json.dumps(circuit.to_json(), indent=4))\n",
    "    datas = {\"name\": name, \"n_ands\": ntk.n_ands, \"n_t\": circuit.num_t, \"n_qubits\": circuit.n_qubits}\n",
    "    open(json_out, \"w\").write(json.dumps(datas, indent=4))\n",
    "    print(datas)"
   ]
  },
  {
   "cell_type": "code",
   "execution_count": null,
   "id": "6f38e395",
   "metadata": {},
   "outputs": [],
   "source": []
  }
 ],
 "metadata": {
  "kernelspec": {
   "display_name": "quantum",
   "language": "python",
   "name": "python3"
  },
  "language_info": {
   "codemirror_mode": {
    "name": "ipython",
    "version": 3
   },
   "file_extension": ".py",
   "mimetype": "text/x-python",
   "name": "python",
   "nbconvert_exporter": "python",
   "pygments_lexer": "ipython3",
   "version": "3.11.13"
  }
 },
 "nbformat": 4,
 "nbformat_minor": 5
}
